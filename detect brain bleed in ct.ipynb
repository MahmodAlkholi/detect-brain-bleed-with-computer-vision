{
 "cells": [
  {
   "cell_type": "code",
   "execution_count": 1,
   "metadata": {},
   "outputs": [],
   "source": [
    "import numpy as np\n",
    "import matplotlib.pyplot as plt\n",
    "import cv2"
   ]
  },
  {
   "cell_type": "code",
   "execution_count": 2,
   "metadata": {},
   "outputs": [
    {
     "ename": "KeyboardInterrupt",
     "evalue": "",
     "output_type": "error",
     "traceback": [
      "\u001b[1;31m---------------------------------------------------------------------------\u001b[0m",
      "\u001b[1;31mKeyboardInterrupt\u001b[0m                         Traceback (most recent call last)",
      "\u001b[1;32m~\\AppData\\Local\\Temp/ipykernel_13408/3746695438.py\u001b[0m in \u001b[0;36m<module>\u001b[1;34m\u001b[0m\n\u001b[0;32m     66\u001b[0m     \u001b[0mcv2\u001b[0m\u001b[1;33m.\u001b[0m\u001b[0mimshow\u001b[0m\u001b[1;33m(\u001b[0m\u001b[1;34m'mask'\u001b[0m \u001b[1;33m,\u001b[0m \u001b[0mmask\u001b[0m\u001b[1;33m)\u001b[0m\u001b[1;33m\u001b[0m\u001b[1;33m\u001b[0m\u001b[0m\n\u001b[0;32m     67\u001b[0m     \u001b[0mcv2\u001b[0m\u001b[1;33m.\u001b[0m\u001b[0mimshow\u001b[0m\u001b[1;33m(\u001b[0m\u001b[1;34m\"res\"\u001b[0m \u001b[1;33m,\u001b[0m \u001b[0mres2\u001b[0m\u001b[1;33m)\u001b[0m\u001b[1;33m\u001b[0m\u001b[1;33m\u001b[0m\u001b[0m\n\u001b[1;32m---> 68\u001b[1;33m     \u001b[1;32mif\u001b[0m \u001b[1;33m(\u001b[0m\u001b[0mcv2\u001b[0m\u001b[1;33m.\u001b[0m\u001b[0mwaitKey\u001b[0m\u001b[1;33m(\u001b[0m\u001b[1;36m10\u001b[0m\u001b[1;33m)\u001b[0m \u001b[1;33m&\u001b[0m \u001b[1;36m0xFF\u001b[0m \u001b[1;33m==\u001b[0m \u001b[0mord\u001b[0m\u001b[1;33m(\u001b[0m\u001b[1;34m'b'\u001b[0m\u001b[1;33m)\u001b[0m\u001b[1;33m)\u001b[0m\u001b[1;33m:\u001b[0m\u001b[1;33m\u001b[0m\u001b[1;33m\u001b[0m\u001b[0m\n\u001b[0m\u001b[0;32m     69\u001b[0m         \u001b[1;32mbreak\u001b[0m\u001b[1;33m\u001b[0m\u001b[1;33m\u001b[0m\u001b[0m\n",
      "\u001b[1;31mKeyboardInterrupt\u001b[0m: "
     ]
    }
   ],
   "source": [
    "import numpy as np\n",
    "import cv2\n",
    "\n",
    "def nothing(x):\n",
    "    pass\n",
    "\n",
    "cv2.namedWindow(\"tracking\")\n",
    "cv2.createTrackbar(\"LH\",\"tracking\",0,255,nothing)\n",
    "cv2.createTrackbar(\"LS\",\"tracking\",0,255,nothing)\n",
    "cv2.createTrackbar(\"LV\",\"tracking\",0,255,nothing)\n",
    "cv2.createTrackbar(\"UH\",\"tracking\",255,255,nothing)\n",
    "cv2.createTrackbar(\"US\",\"tracking\",255,255,nothing)\n",
    "cv2.createTrackbar(\"UV\",\"tracking\",255,255,nothing)\n",
    "\n",
    "# my_img = cv2.imread('First-CT-scan-brain-without-contrast-showing-suspicion-of-subarachnoid-bleed-a.png')\n",
    "\n",
    "while True:\n",
    "\n",
    "    my_img = cv2.imread('An-81-year-old-man-with-a-well-circumscribed-right-parietal-intraparenchymal-hematoma_Q320.jpg')\n",
    "    #roi = img[269: 795, 537: 1416]\n",
    "    rows, cols, _ = my_img.shape\n",
    "    gray_roi = cv2.cvtColor(my_img, cv2.COLOR_BGR2GRAY)\n",
    "    gray_roi = cv2.GaussianBlur(gray_roi, (5, 5), 0)\n",
    "    _, threshold = cv2.threshold(gray_roi, 3, 255, cv2.THRESH_BINARY_INV)\n",
    "\n",
    "    hsv = cv2.cvtColor(my_img, cv2.COLOR_BGR2HSV)\n",
    "\n",
    "    \"\"\"\n",
    "    lh = 0\n",
    "    ls = 0\n",
    "    lv = 128\n",
    "    uh = 255\n",
    "    us = 255\n",
    "    uv = 148 or 186 or 215\n",
    "    \"\"\"\n",
    "\n",
    "    l_h = cv2.getTrackbarPos(\"LH\" , \"tracking\")\n",
    "    l_s = cv2.getTrackbarPos(\"LS\", \"tracking\")\n",
    "    l_v = cv2.getTrackbarPos(\"LV\", \"tracking\")\n",
    "\n",
    "    u_h = cv2.getTrackbarPos(\"UH\", \"tracking\")\n",
    "    u_s = cv2.getTrackbarPos(\"US\", \"tracking\")\n",
    "    u_v = cv2.getTrackbarPos(\"UV\", \"tracking\")\n",
    "\n",
    "    l_b = np.array([l_h,l_s,l_v])\n",
    "    u_b = np.array([u_h,u_s,u_v])\n",
    "\n",
    "    mask = cv2.inRange(hsv, l_b, u_b)\n",
    "    res = cv2.bitwise_and(my_img,my_img,mask=mask)\n",
    "    res2 = cv2.bitwise_and(gray_roi, gray_roi, mask=mask)\n",
    "    \n",
    "    #ret, thresh = cv2.threshold(my_img, 127, 255, 0)\n",
    "    ret, thresh = cv2.threshold(my_img, 120, 200, 0)\n",
    "    contours, hierarchy = cv2.findContours(res2, cv2.RETR_TREE, cv2.CHAIN_APPROX_SIMPLE)\n",
    "    contours = sorted(contours, key=lambda x: cv2.contourArea(x), reverse=True)\n",
    "    for cnt in contours:\n",
    "        (x,y,w,h) = cv2.boundingRect(cnt)\n",
    "        #cv2.drawContours(img, contours, -1, (0, 255, 0), 3)\n",
    "        cv2.rectangle(my_img,(x,y),(x+w,y+h),(255,0,0),2)\n",
    "        cv2.line(my_img, (x + int(w/2), 0), (x + int(w/2), rows), (0, 255, 0), 2)\n",
    "        cv2.line(my_img, (0, y + int(h/2)), (cols, y + int(h/2)), (0, 255, 0), 2)\n",
    "        break\n",
    "\n",
    "\n",
    "    cv2.imshow('Video', my_img)\n",
    "    cv2.imshow('mask' , mask)\n",
    "    cv2.imshow(\"res\" , res2)\n",
    "    if (cv2.waitKey(10) & 0xFF == ord('b')):\n",
    "        break"
   ]
  },
  {
   "cell_type": "code",
   "execution_count": null,
   "metadata": {},
   "outputs": [],
   "source": []
  }
 ],
 "metadata": {
  "kernelspec": {
   "display_name": "super_nova",
   "language": "python",
   "name": "super_nova"
  },
  "language_info": {
   "codemirror_mode": {
    "name": "ipython",
    "version": 3
   },
   "file_extension": ".py",
   "mimetype": "text/x-python",
   "name": "python",
   "nbconvert_exporter": "python",
   "pygments_lexer": "ipython3",
   "version": "3.8.12"
  }
 },
 "nbformat": 4,
 "nbformat_minor": 2
}
